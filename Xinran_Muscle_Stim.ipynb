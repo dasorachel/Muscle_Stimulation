{
 "cells": [
  {
   "cell_type": "code",
   "execution_count": 1,
   "id": "7f1b1bac-6a70-4cd2-9194-77dc64074d8b",
   "metadata": {},
   "outputs": [],
   "source": [
    "#import libraries\n",
    "import pysmu\n",
    "from pysmu import Session, Mode, Device\n",
    "import time\n",
    "import pandas as pd\n",
    "import matplotlib.pyplot as plt\n",
    "import os\n",
    "#initialize the session run count to keep recordings in order\n",
    "run = 1"
   ]
  },
  {
   "cell_type": "code",
   "execution_count": 2,
   "id": "09950e7e-8fa5-4cea-ae9a-3e0426169706",
   "metadata": {},
   "outputs": [],
   "source": [
    "# initialize ADALM settings\n",
    "session = Session(queue_size = 100000)\n",
    "sample_rate = 100000\n",
    "session.configure(sample_rate = sample_rate)\n",
    "chA = session.devices[0].channels['A']\n",
    "chB = session.devices[0].channels['B']"
   ]
  },
  {
   "cell_type": "code",
   "execution_count": 3,
   "id": "7d77b770-ba54-4c27-a88c-d8ddf6dc3d18",
   "metadata": {},
   "outputs": [],
   "source": [
    "#Total time of stimulation\n",
    "stim_time = 5 #units: seconds\n",
    "\n",
    "#time to delay the second signal from the other\n",
    "delay = 0.5 #unit: seconds\n",
    "\n",
    "# Channel A set parameters below\n",
    "chA_voltage = 1 #units: V for voltage stim or A for current stim\n",
    "chA_pulse_width = 10 #unit: ms\n",
    "chA_frequency = 1 #unit: Hz\n",
    "\n",
    "# Channel B set parameters below\n",
    "chB_voltage = 1 #units: V for voltage stim or A for current stim\n",
    "chB_pulse_width = 10 #unit: ms\n",
    "chB_frequency = 1 #unit: Hz"
   ]
  },
  {
   "cell_type": "code",
   "execution_count": 4,
   "id": "147a53b2-79ae-4d09-8c88-921930b1e2ec",
   "metadata": {},
   "outputs": [],
   "source": [
    "# apply stimulation\n",
    "for i, stim in enumerate(range(stim_time)):\n",
    "    #set channel A\n",
    "    chA.mode = Mode.SVMI\n",
    "    chA.square(chA_voltage,0,sample_rate/chA_frequency,0,chA_pulse_width/(1000/chA_frequency))\n",
    "    #set channel B\n",
    "    chB.mode = Mode.SVMI\n",
    "    chB.square(chB_voltage,0,sample_rate/chB_frequency,delay*sample_rate,chB_pulse_width/(1000/chA_frequency))\n",
    "    #stim channels\n",
    "    recording = session.devices[0].get_samples(stim_time*sample_rate)\n",
    "    chA.constant(0)\n",
    "    chB.constant(0)\n",
    "    session.devices[0].get_samples(10)\n",
    "\n",
    "   \n",
    "#save V and A recordings\n",
    "V_chA = []\n",
    "A_chA = []\n",
    "V_chB = []\n",
    "A_chB = []\n",
    "\n",
    "for i in range(len(recording)):\n",
    "    V_chA.append(recording[i][0][0])\n",
    "    A_chA.append(recording[i][0][1])\n",
    "    V_chB.append(recording[i][1][0])\n",
    "    A_chB.append(recording[i][1][1])\n",
    "df = pd.DataFrame({\"Channel 1 V\" : V_chA, \"Channel 1 A\": A_chA, \"Channel 2 V\" : V_chB, \"Channel 2 A\": A_chB})\n",
    "df.to_csv(f\"Muscle_stim_{run}.csv\")\n",
    "run += 1\n",
    "session.end()"
   ]
  },
  {
   "cell_type": "code",
   "execution_count": 5,
   "id": "161481ee-c4ee-4de1-937e-814d001bd181",
   "metadata": {},
   "outputs": [
    {
     "name": "stdout",
     "output_type": "stream",
     "text": [
      "['Muscle_stim_1']\n",
      "[        Unnamed: 0  Channel 1 V  Channel 1 A  Channel 2 V  Channel 2 A\n",
      "0                0     0.441749     0.004190     0.003624    -0.000251\n",
      "1                1     0.993946     0.011242     0.003546    -0.000227\n",
      "2                2     0.999022     0.010969     0.003468    -0.000126\n",
      "3                3     0.999335     0.010697     0.003546    -0.000165\n",
      "4                4     0.999491     0.010681     0.003546    -0.000157\n",
      "...            ...          ...          ...          ...          ...\n",
      "499995      499995     0.002943     0.000452     0.003624    -0.000243\n",
      "499996      499996     0.002943     0.000428     0.003468    -0.000173\n",
      "499997      499997     0.002943     0.000506     0.003468    -0.000220\n",
      "499998      499998     0.002943     0.000405     0.003468    -0.000204\n",
      "499999      499999     0.002865     0.000592     0.003546    -0.000267\n",
      "\n",
      "[500000 rows x 5 columns]]\n"
     ]
    }
   ],
   "source": [
    "# Looks through the folder where this code file is located and selects and orders the recording files\n",
    "directory = os.getcwd()\n",
    "data_sets = []\n",
    "file_names = []\n",
    "\n",
    "datas = []\n",
    "names = []\n",
    "for root,dirs,files in os.walk(directory):\n",
    "    for file in sorted(files):\n",
    "        if file.endswith(\".csv\"):\n",
    "            if \"stim_\" in file:\n",
    "                f=open(file, 'r')\n",
    "                data = pd.read_csv(f)\n",
    "                file_name = file.split('.')[0]\n",
    "                datas.append(data)\n",
    "                f.close()\n",
    "                names.append(file_name)\n",
    "print(names)\n",
    "print(datas)"
   ]
  },
  {
   "cell_type": "code",
   "execution_count": 38,
   "id": "53a6610b-5783-4b68-88e1-b934d9bd2291",
   "metadata": {},
   "outputs": [
    {
     "data": {
      "image/png": "[encoded data removed]",
      "text/plain": [
       "<Figure size 500x300 with 2 Axes>"
      ]
     },
     "metadata": {},
     "output_type": "display_data"
    }
   ],
   "source": [
    "# plots the traces and labels each by channel\n",
    "for n, name in enumerate(names):\n",
    "    data = datas[n]\n",
    "    # add a new subplot iteratively\n",
    "    plt.figure(figsize=(5,3))\n",
    "    plt.suptitle(name, fontsize=18, y=1)\n",
    "    \n",
    "    ax = plt.subplot()\n",
    "    # ax.set_xlim(0,100000)\n",
    "    # Current plot (left y-axis)\n",
    "    ax.set_xlabel('Time (0.1 ms)')\n",
    "    ax.set_ylabel('Current (A)', color='red')\n",
    "    ax.plot(data[\"Channel 1 A\"], color='red', label='Channel 1 Current')\n",
    "    ax.plot(data[\"Channel 2 A\"], color='pink', label='Channel 2 Current')\n",
    "    ax.tick_params(axis='y', labelcolor='black')\n",
    "    ax.set_ylim(-0.01,0.1)\n",
    "\n",
    "    # Voltage plot (right y-axis)\n",
    "    axt = ax.twinx()  \n",
    "    axt.set_ylabel('Voltage (V)', color='blue')\n",
    "    axt.plot(data[\"Channel 1 V\"], color='blue', label='Channel 1 Voltage')\n",
    "    axt.plot(data[\"Channel 2 V\"], color='lightblue', label='Channel 2 Voltage')\n",
    "    axt.tick_params(axis='y', labelcolor='black')\n",
    "    axt.set_ylim(-2,2)\n",
    "\n",
    "    plt.tight_layout()\n",
    "    plt.show()"
   ]
  },
  {
   "cell_type": "code",
   "execution_count": null,
   "id": "9cd8b339-f620-4265-9309-4f104f0b9ecd",
   "metadata": {},
   "outputs": [],
   "source": []
  }
 ],
 "metadata": {
  "kernelspec": {
   "display_name": "Python 3 (ipykernel)",
   "language": "python",
   "name": "python3"
  },
  "language_info": {
   "codemirror_mode": {
    "name": "ipython",
    "version": 3
   },
   "file_extension": ".py",
   "mimetype": "text/x-python",
   "name": "python",
   "nbconvert_exporter": "python",
   "pygments_lexer": "ipython3",
   "version": "3.10.15"
  }
 },
 "nbformat": 4,
 "nbformat_minor": 5
}
